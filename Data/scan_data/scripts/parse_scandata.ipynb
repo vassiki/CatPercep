{
 "cells": [
  {
   "cell_type": "markdown",
   "metadata": {},
   "source": [
    "# Parse eye tracking data for face scanning"
   ]
  },
  {
   "cell_type": "code",
   "execution_count": 12,
   "metadata": {
    "collapsed": true
   },
   "outputs": [],
   "source": [
    "import numpy as np\n",
    "import os"
   ]
  },
  {
   "cell_type": "markdown",
   "metadata": {},
   "source": [
    "Function to read fixation and saccades when the fixation cross is on"
   ]
  },
  {
   "cell_type": "code",
   "execution_count": 15,
   "metadata": {
    "collapsed": false
   },
   "outputs": [],
   "source": [
    "def read_fix_period(fn):\n",
    "    with open(fn,'r') as f:\n",
    "        trial_num = 0\n",
    "        fix_data = np.array(['Trial_Num','Event_Type','Event_Num','Start','End','Dur','SXPos',\\\n",
    "                            'SYPos','EXPos','EYPos'])\n",
    "        line = f.readline()\n",
    "        while line != '':\n",
    "            if 'TRIALID' in line and not 'OVER' in line:\n",
    "                trial_num += 1\n",
    "                line = f.readline()\n",
    "                while 'OVER' not in line:\n",
    "                    if 'FIX ON' in line and 'SEC' not in line:\n",
    "                        fix_num = 0; sacc_num = 0\n",
    "                        while 'FIX OFF' not in line:\n",
    "                            if 'SFIX' in line:\n",
    "                                fix_num += 1\n",
    "                                line = f.readline()\n",
    "                            elif 'EFIX' in line:\n",
    "                                info = line.split()\n",
    "                                eye_mv = 'fixation'\n",
    "                                start = info[2]; end = info[3]; duration = info[4]\n",
    "                                xpos_start = info[5]; ypos_start = info[6]\n",
    "                                xpos_end = info[5]; ypos_end = info[6]\n",
    "                                data = [trial_num,eye_mv,fix_num,start,end,duration,\\\n",
    "                                           xpos_start,ypos_start,xpos_end,ypos_end]\n",
    "                                fix_data = np.vstack((fix_data,data))\n",
    "                                line = f.readline()\n",
    "                            elif 'SSACC' in line: \n",
    "                                sacc_num += 1\n",
    "                                line = f.readline()\n",
    "                            elif 'ESACC' in line:\n",
    "                                info = line.split()\n",
    "                                eye_mv = 'saccade'\n",
    "                                start = info[2]; end = info[3]; duration = info[4]\n",
    "                                xpos_start = info[5]; ypos_start = info[6]\n",
    "                                xpos_end = info[7]; ypos_end = info[8]\n",
    "                                data = [trial_num,eye_mv,sacc_num,start,end,duration,\\\n",
    "                                           xpos_start,ypos_start,xpos_end,ypos_end]\n",
    "                                fix_data = np.vstack((fix_data,data))\n",
    "                                line = f.readline()\n",
    "                            else:\n",
    "                                line = f.readline()\n",
    "                    else:\n",
    "                        line = f.readline()\n",
    "            else:\n",
    "                line = f.readline()      \n",
    "                \n",
    "    return fix_data"
   ]
  },
  {
   "cell_type": "markdown",
   "metadata": {},
   "source": [
    "Function to read fixation and saccades when stimulus is on"
   ]
  },
  {
   "cell_type": "code",
   "execution_count": 16,
   "metadata": {
    "collapsed": true
   },
   "outputs": [],
   "source": [
    "def read_stim_period(fn):\n",
    "    with open(fn,'r') as f:\n",
    "        trial_num = 0\n",
    "        stim_data = np.array(['Trial_Num','Event_Type','Event_Num','Start','End','Dur','SXPos',\\\n",
    "                            'SYPos','EXPos','EYPos'])\n",
    "        line = f.readline()\n",
    "        while line != '':\n",
    "            if 'TRIALID' in line and not 'OVER' in line:\n",
    "                trial_num += 1\n",
    "                line = f.readline()\n",
    "                while 'OVER' not in line:\n",
    "                    if 'STIM ON' in line:\n",
    "                        fix_num = 0; sacc_num = 0\n",
    "                        while 'STIM OFF' not in line:\n",
    "                            if 'SFIX' in line:\n",
    "                                fix_num += 1\n",
    "                                line = f.readline()\n",
    "                            elif 'EFIX' in line:\n",
    "                                info = line.split()\n",
    "                                eye_mv = 'fixation'\n",
    "                                start = info[2]; end = info[3]; duration = info[4]\n",
    "                                xpos_start = info[5]; ypos_start = info[6]\n",
    "                                xpos_end = info[5]; ypos_end = info[6]\n",
    "                                data = [trial_num,eye_mv,fix_num,start,end,duration,\\\n",
    "                                           xpos_start,ypos_start,xpos_end,ypos_end]\n",
    "                                stim_data = np.vstack((stim_data,data))\n",
    "                                line = f.readline()\n",
    "                            elif 'SSACC' in line: \n",
    "                                sacc_num += 1\n",
    "                                line = f.readline()\n",
    "                            elif 'ESACC' in line:\n",
    "                                info = line.split()\n",
    "                                eye_mv = 'saccade'\n",
    "                                start = info[2]; end = info[3]; duration = info[4]\n",
    "                                xpos_start = info[5]; ypos_start = info[6]\n",
    "                                xpos_end = info[7]; ypos_end = info[8]\n",
    "                                data = [trial_num,eye_mv,sacc_num,start,end,duration,\\\n",
    "                                           xpos_start,ypos_start,xpos_end,ypos_end]\n",
    "                                stim_data = np.vstack((stim_data,data))\n",
    "                                line = f.readline()\n",
    "                            else:\n",
    "                                line = f.readline()\n",
    "                    else:\n",
    "                        line = f.readline()\n",
    "            else:\n",
    "                line = f.readline()      \n",
    "                \n",
    "    return stim_data"
   ]
  },
  {
   "cell_type": "markdown",
   "metadata": {},
   "source": [
    "Run parser for all subjects and blocks"
   ]
  },
  {
   "cell_type": "code",
   "execution_count": 17,
   "metadata": {
    "collapsed": false
   },
   "outputs": [],
   "source": [
    "# Now do it for all subjects\n",
    "subs = range(1,11); blocks = range(1,4)\n",
    "\n",
    "stim_dir = '/Users/vassiki/Desktop/CatPercep/Data/scan_data/output/stim/'\n",
    "if not os.path.exists(stim_dir):\n",
    "    os.mkdir(stim_dir)\n",
    "\n",
    "fix_dir = '/Users/vassiki/Desktop/CatPercep/Data/scan_data/output/fix/'\n",
    "if not os.path.exists(fix_dir):\n",
    "    os.mkdir(fix_dir)    \n",
    "\n",
    "for isub in subs:\n",
    "    for ibl in blocks:\n",
    "        fn = '/Users/vassiki/Desktop/CatPercep/Data/scan_data/S' + \\\n",
    "              str(isub) + 'B' + str(ibl) + 'Sc.asc'\n",
    "        stim = read_stim_period(fn)\n",
    "        fix = read_fix_period(fn)\n",
    "        stim_file = stim_dir + 'S' + str(isub) + 'B' + str(ibl) + '_stim.csv'\n",
    "        fix_file = fix_dir + 'S' + str(isub) + 'B' + str(ibl) + '_fix.csv'\n",
    "        np.savetxt(stim_file,stim,delimiter=\",\",fmt=\"%s\")\n",
    "        np.savetxt(fix_file,fix,delimiter=\",\",fmt=\"%s\")\n"
   ]
  }
 ],
 "metadata": {
  "kernelspec": {
   "display_name": "Python 2",
   "language": "python",
   "name": "python2"
  },
  "language_info": {
   "codemirror_mode": {
    "name": "ipython",
    "version": 2
   },
   "file_extension": ".py",
   "mimetype": "text/x-python",
   "name": "python",
   "nbconvert_exporter": "python",
   "pygments_lexer": "ipython2",
   "version": "2.7.10"
  }
 },
 "nbformat": 4,
 "nbformat_minor": 0
}
