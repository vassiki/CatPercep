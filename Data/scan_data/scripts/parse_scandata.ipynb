{
 "cells": [
  {
   "cell_type": "markdown",
   "metadata": {},
   "source": [
    "# Parse eye tracking data for face scanning"
   ]
  },
  {
   "cell_type": "code",
   "execution_count": 5,
   "metadata": {
    "collapsed": true
   },
   "outputs": [],
   "source": [
    "import numpy as np\n",
    "import os\n",
    "import csv"
   ]
  },
  {
   "cell_type": "markdown",
   "metadata": {},
   "source": [
    "Function to read fixation and saccades when the fixation cross is on"
   ]
  },
  {
   "cell_type": "code",
   "execution_count": 15,
   "metadata": {
    "collapsed": false
   },
   "outputs": [],
   "source": [
    "def read_fix_period(fn):\n",
    "    with open(fn,'r') as f:\n",
    "        trial_num = 0\n",
    "        fix_data = np.array(['Trial_Num','Event_Type','Event_Num','Start','End','Dur','SXPos',\\\n",
    "                            'SYPos','EXPos','EYPos'])\n",
    "        line = f.readline()\n",
    "        while line != '':\n",
    "            if 'TRIALID' in line and not 'OVER' in line:\n",
    "                trial_num += 1\n",
    "                line = f.readline()\n",
    "                while 'OVER' not in line:\n",
    "                    if 'FIX ON' in line and 'SEC' not in line:\n",
    "                        fix_num = 0; sacc_num = 0\n",
    "                        while 'FIX OFF' not in line:\n",
    "                            if 'SFIX' in line:\n",
    "                                fix_num += 1\n",
    "                                line = f.readline()\n",
    "                            elif 'EFIX' in line:\n",
    "                                info = line.split()\n",
    "                                eye_mv = 'fixation'\n",
    "                                start = info[2]; end = info[3]; duration = info[4]\n",
    "                                xpos_start = info[5]; ypos_start = info[6]\n",
    "                                xpos_end = info[5]; ypos_end = info[6]\n",
    "                                data = [trial_num,eye_mv,fix_num,start,end,duration,\\\n",
    "                                           xpos_start,ypos_start,xpos_end,ypos_end]\n",
    "                                fix_data = np.vstack((fix_data,data))\n",
    "                                line = f.readline()\n",
    "                            elif 'SSACC' in line: \n",
    "                                sacc_num += 1\n",
    "                                line = f.readline()\n",
    "                            elif 'ESACC' in line:\n",
    "                                info = line.split()\n",
    "                                eye_mv = 'saccade'\n",
    "                                start = info[2]; end = info[3]; duration = info[4]\n",
    "                                xpos_start = info[5]; ypos_start = info[6]\n",
    "                                xpos_end = info[7]; ypos_end = info[8]\n",
    "                                data = [trial_num,eye_mv,sacc_num,start,end,duration,\\\n",
    "                                           xpos_start,ypos_start,xpos_end,ypos_end]\n",
    "                                fix_data = np.vstack((fix_data,data))\n",
    "                                line = f.readline()\n",
    "                            else:\n",
    "                                line = f.readline()\n",
    "                    else:\n",
    "                        line = f.readline()\n",
    "            else:\n",
    "                line = f.readline()      \n",
    "                \n",
    "    return fix_data"
   ]
  },
  {
   "cell_type": "markdown",
   "metadata": {},
   "source": [
    "Function to read fixation and saccades when stimulus is on"
   ]
  },
  {
   "cell_type": "code",
   "execution_count": 16,
   "metadata": {
    "collapsed": true
   },
   "outputs": [],
   "source": [
    "def read_stim_period(fn):\n",
    "    with open(fn,'r') as f:\n",
    "        trial_num = 0\n",
    "        stim_data = np.array(['Trial_Num','Event_Type','Event_Num','Start','End','Dur','SXPos',\\\n",
    "                            'SYPos','EXPos','EYPos'])\n",
    "        line = f.readline()\n",
    "        while line != '':\n",
    "            if 'TRIALID' in line and not 'OVER' in line:\n",
    "                trial_num += 1\n",
    "                line = f.readline()\n",
    "                while 'OVER' not in line:\n",
    "                    if 'STIM ON' in line:\n",
    "                        fix_num = 0; sacc_num = 0\n",
    "                        while 'STIM OFF' not in line:\n",
    "                            if 'SFIX' in line:\n",
    "                                fix_num += 1\n",
    "                                line = f.readline()\n",
    "                            elif 'EFIX' in line:\n",
    "                                info = line.split()\n",
    "                                eye_mv = 'fixation'\n",
    "                                start = info[2]; end = info[3]; duration = info[4]\n",
    "                                xpos_start = info[5]; ypos_start = info[6]\n",
    "                                xpos_end = info[5]; ypos_end = info[6]\n",
    "                                data = [trial_num,eye_mv,fix_num,start,end,duration,\\\n",
    "                                           xpos_start,ypos_start,xpos_end,ypos_end]\n",
    "                                stim_data = np.vstack((stim_data,data))\n",
    "                                line = f.readline()\n",
    "                            elif 'SSACC' in line: \n",
    "                                sacc_num += 1\n",
    "                                line = f.readline()\n",
    "                            elif 'ESACC' in line:\n",
    "                                info = line.split()\n",
    "                                eye_mv = 'saccade'\n",
    "                                start = info[2]; end = info[3]; duration = info[4]\n",
    "                                xpos_start = info[5]; ypos_start = info[6]\n",
    "                                xpos_end = info[7]; ypos_end = info[8]\n",
    "                                data = [trial_num,eye_mv,sacc_num,start,end,duration,\\\n",
    "                                           xpos_start,ypos_start,xpos_end,ypos_end]\n",
    "                                stim_data = np.vstack((stim_data,data))\n",
    "                                line = f.readline()\n",
    "                            else:\n",
    "                                line = f.readline()\n",
    "                    else:\n",
    "                        line = f.readline()\n",
    "            else:\n",
    "                line = f.readline()      \n",
    "                \n",
    "    return stim_data"
   ]
  },
  {
   "cell_type": "markdown",
   "metadata": {},
   "source": [
    "Run parser for all subjects and blocks"
   ]
  },
  {
   "cell_type": "code",
   "execution_count": 17,
   "metadata": {
    "collapsed": false
   },
   "outputs": [],
   "source": [
    "# Now do it for all subjects\n",
    "subs = range(1,11); blocks = range(1,4)\n",
    "\n",
    "stim_dir = '/Users/vassiki/Desktop/CatPercep/Data/scan_data/output/stim/'\n",
    "if not os.path.exists(stim_dir):\n",
    "    os.mkdir(stim_dir)\n",
    "\n",
    "fix_dir = '/Users/vassiki/Desktop/CatPercep/Data/scan_data/output/fix/'\n",
    "if not os.path.exists(fix_dir):\n",
    "    os.mkdir(fix_dir)    \n",
    "\n",
    "for isub in subs:\n",
    "    for ibl in blocks:\n",
    "        fn = '/Users/vassiki/Desktop/CatPercep/Data/scan_data/S' + \\\n",
    "              str(isub) + 'B' + str(ibl) + 'Sc.asc'\n",
    "        stim = read_stim_period(fn)\n",
    "        fix = read_fix_period(fn)\n",
    "        stim_file = stim_dir + 'S' + str(isub) + 'B' + str(ibl) + '_stim.csv'\n",
    "        fix_file = fix_dir + 'S' + str(isub) + 'B' + str(ibl) + '_fix.csv'\n",
    "        np.savetxt(stim_file,stim,delimiter=\",\",fmt=\"%s\")\n",
    "        np.savetxt(fix_file,fix,delimiter=\",\",fmt=\"%s\")\n"
   ]
  },
  {
   "cell_type": "markdown",
   "metadata": {},
   "source": [
    "Collating input and output files"
   ]
  },
  {
   "cell_type": "code",
   "execution_count": null,
   "metadata": {
    "collapsed": true
   },
   "outputs": [],
   "source": [
    "# first just add column names to the input files ---- obsolete after one use, original files were deleted\n",
    "subs = range(1,11); blocks = range(1,4)\n",
    "\n",
    "info_dir = '/Users/vassiki/Desktop/CatPercep/Data/scan_data/input/'\n",
    "\n",
    "for isub in subs:\n",
    "    for ibl in blocks:\n",
    "        data = []\n",
    "        outdata = np.array(['ImageId','Directory','Condition','Id'])\n",
    "        fn = info_dir + 'Exp1_S' + str(isub) + 'B' + str(ibl) + '.csv'\n",
    "        with open(fn) as csvfile:\n",
    "            reader = csv.reader(csvfile)\n",
    "            for row in reader:\n",
    "                data.append(row)\n",
    "        outdata = np.vstack((outdata,data))\n",
    "        input_file = info_dir + 'S' + str(isub) + 'B' + str(ibl) + '.csv'\n",
    "        np.savetxt(input_file,outdata,delimiter=\",\",fmt=\"%s\")"
   ]
  },
  {
   "cell_type": "code",
   "execution_count": 24,
   "metadata": {
    "collapsed": false
   },
   "outputs": [],
   "source": [
    "# Now collating information from the two relevant csv files per block per subject\n",
    "stim_dir = '/Users/vassiki/Desktop/CatPercep/Data/scan_data/output/epochs/stim/'\n",
    "info_dir = '/Users/vassiki/Desktop/CatPercep/Data/scan_data/input/'\n",
    "\n",
    "subs = range(1,11); blocks = range(1,4)\n",
    "\n",
    "for isub in subs:\n",
    "    for ibl in blocks:\n",
    "        TrialImage = []\n",
    "        Data = []\n",
    "        # annotator for trials\n",
    "        info_file = info_dir + 'S' + str(isub) + 'B' + str(ibl) + '.csv'\n",
    "        with open(info_file) as info:\n",
    "            reader = csv.DictReader(info)\n",
    "            for row in reader: \n",
    "                TrialImage.append(row['ImageId'])\n",
    "        # data file \n",
    "        data_file = stim_dir + 'S' + str(isub) + 'B' + str(ibl) + '_stim.csv'\n",
    "        with open(data_file) as data:\n",
    "            data_reader = csv.reader(data)\n",
    "            for row in data_reader:\n",
    "                Data.append(row)\n",
    "                \n",
    "        for trial in range(1,len(TrialImage)+1):\n",
    "            for index in range(1,len(Data)):\n",
    "                if Data[index][0] == str(trial):\n",
    "                    Data[index] = Data[index] + [TrialImage[trial-1]]\n",
    "                    \n",
    "                    if '100' in TrialImage[trial-1]:\n",
    "                        Data[index] = Data[index] + ['familiar']\n",
    "                    else:\n",
    "                        Data[index] = Data[index] + ['unfamiliar']\n",
    "        \n",
    "        colnames = Data[0]\n",
    "        colnames = np.array([colnames + ['ImageId','Condition']])\n",
    "        Data.pop(0)\n",
    "        OutData = np.vstack((colnames,Data))\n",
    "        outdir = '/Users/vassiki/Desktop/CatPercep/Data/scan_data/output/clean/'\n",
    "        output_file = outdir + 'Out_S' + str(isub) + 'B' + str(ibl) + '.csv'\n",
    "        np.savetxt(output_file,OutData,delimiter=\",\",fmt=\"%s\")\n",
    "    "
   ]
  },
  {
   "cell_type": "markdown",
   "metadata": {},
   "source": [
    "Scratchpad"
   ]
  },
  {
   "cell_type": "code",
   "execution_count": 20,
   "metadata": {
    "collapsed": false
   },
   "outputs": [],
   "source": [
    "Data[0] = Data[0] + ['ImageId','Condition']"
   ]
  },
  {
   "cell_type": "code",
   "execution_count": 21,
   "metadata": {
    "collapsed": false
   },
   "outputs": [
    {
     "data": {
      "text/plain": [
       "['Trial_Num',\n",
       " 'Event_Type',\n",
       " 'Event_Num',\n",
       " 'Start',\n",
       " 'End',\n",
       " 'Dur',\n",
       " 'SXPos',\n",
       " 'SYPos',\n",
       " 'EXPos',\n",
       " 'EYPos',\n",
       " 'ImageId',\n",
       " 'Condition',\n",
       " 'ImageId',\n",
       " 'Condition']"
      ]
     },
     "execution_count": 21,
     "metadata": {},
     "output_type": "execute_result"
    }
   ],
   "source": [
    "Data[0]"
   ]
  },
  {
   "cell_type": "code",
   "execution_count": 17,
   "metadata": {
    "collapsed": true
   },
   "outputs": [],
   "source": [
    "outdata = np.vstack((outdata,data))\n",
    "input_file = info_dir + 'S' + str(isub) + 'B' + str(ibl) + '.csv'\n",
    "np.savetxt(input_file,outdata,delimiter=\",\",fmt=\"%s\")"
   ]
  },
  {
   "cell_type": "code",
   "execution_count": 27,
   "metadata": {
    "collapsed": false
   },
   "outputs": [
    {
     "data": {
      "text/plain": [
       "[['Image', 'Directory', 'Condition', 'Id'],\n",
       " ['f2_100.jpg',\n",
       "  '/home/haxbylab-exp/Desktop/CatPercep/orig_id/f2',\n",
       "  'Fam',\n",
       "  'f2'],\n",
       " ['m1_100.jpg',\n",
       "  '/home/haxbylab-exp/Desktop/CatPercep/orig_id/m1',\n",
       "  'Fam',\n",
       "  'm1'],\n",
       " ['m2_0.jpg',\n",
       "  '/home/haxbylab-exp/Desktop/CatPercep/orig_id/m2',\n",
       "  'UnFam',\n",
       "  'm2'],\n",
       " ['m1_0.jpg',\n",
       "  '/home/haxbylab-exp/Desktop/CatPercep/orig_id/m1',\n",
       "  'UnFam',\n",
       "  'm1'],\n",
       " ['f2_0.jpg',\n",
       "  '/home/haxbylab-exp/Desktop/CatPercep/orig_id/f2',\n",
       "  'UnFam',\n",
       "  'f2'],\n",
       " ['m2_100.jpg',\n",
       "  '/home/haxbylab-exp/Desktop/CatPercep/orig_id/m2',\n",
       "  'Fam',\n",
       "  'm2'],\n",
       " ['f2_100.jpg',\n",
       "  '/home/haxbylab-exp/Desktop/CatPercep/orig_id/f2',\n",
       "  'Fam',\n",
       "  'f2'],\n",
       " ['m2_0.jpg',\n",
       "  '/home/haxbylab-exp/Desktop/CatPercep/orig_id/m2',\n",
       "  'UnFam',\n",
       "  'm2'],\n",
       " ['m1_100.jpg',\n",
       "  '/home/haxbylab-exp/Desktop/CatPercep/orig_id/m1',\n",
       "  'Fam',\n",
       "  'm1'],\n",
       " ['f2_0.jpg',\n",
       "  '/home/haxbylab-exp/Desktop/CatPercep/orig_id/f2',\n",
       "  'UnFam',\n",
       "  'f2'],\n",
       " ['m2_100.jpg',\n",
       "  '/home/haxbylab-exp/Desktop/CatPercep/orig_id/m2',\n",
       "  'Fam',\n",
       "  'm2'],\n",
       " ['m1_0.jpg',\n",
       "  '/home/haxbylab-exp/Desktop/CatPercep/orig_id/m1',\n",
       "  'UnFam',\n",
       "  'm1'],\n",
       " ['f2_100.jpg',\n",
       "  '/home/haxbylab-exp/Desktop/CatPercep/orig_id/f2',\n",
       "  'Fam',\n",
       "  'f2'],\n",
       " ['m1_100.jpg',\n",
       "  '/home/haxbylab-exp/Desktop/CatPercep/orig_id/m1',\n",
       "  'Fam',\n",
       "  'm1'],\n",
       " ['m2_0.jpg',\n",
       "  '/home/haxbylab-exp/Desktop/CatPercep/orig_id/m2',\n",
       "  'UnFam',\n",
       "  'm2'],\n",
       " ['m1_0.jpg',\n",
       "  '/home/haxbylab-exp/Desktop/CatPercep/orig_id/m1',\n",
       "  'UnFam',\n",
       "  'm1'],\n",
       " ['f2_0.jpg',\n",
       "  '/home/haxbylab-exp/Desktop/CatPercep/orig_id/f2',\n",
       "  'UnFam',\n",
       "  'f2'],\n",
       " ['m2_100.jpg',\n",
       "  '/home/haxbylab-exp/Desktop/CatPercep/orig_id/m2',\n",
       "  'Fam',\n",
       "  'm2'],\n",
       " ['m1_100.jpg',\n",
       "  '/home/haxbylab-exp/Desktop/CatPercep/orig_id/m1',\n",
       "  'Fam',\n",
       "  'm1'],\n",
       " ['m2_0.jpg',\n",
       "  '/home/haxbylab-exp/Desktop/CatPercep/orig_id/m2',\n",
       "  'UnFam',\n",
       "  'm2'],\n",
       " ['f2_100.jpg',\n",
       "  '/home/haxbylab-exp/Desktop/CatPercep/orig_id/f2',\n",
       "  'Fam',\n",
       "  'f2'],\n",
       " ['m1_0.jpg',\n",
       "  '/home/haxbylab-exp/Desktop/CatPercep/orig_id/m1',\n",
       "  'UnFam',\n",
       "  'm1'],\n",
       " ['f2_0.jpg',\n",
       "  '/home/haxbylab-exp/Desktop/CatPercep/orig_id/f2',\n",
       "  'UnFam',\n",
       "  'f2'],\n",
       " ['m2_100.jpg',\n",
       "  '/home/haxbylab-exp/Desktop/CatPercep/orig_id/m2',\n",
       "  'Fam',\n",
       "  'm2']]"
      ]
     },
     "execution_count": 27,
     "metadata": {},
     "output_type": "execute_result"
    }
   ],
   "source": [
    "vals = []\n",
    "with open(info) as csvfile:\n",
    "    reader = csv.reader(csvfile)\n",
    "    for row in reader:\n",
    "        vals.append(row)\n",
    "        \n",
    "vals"
   ]
  }
 ],
 "metadata": {
  "kernelspec": {
   "display_name": "Python 2",
   "language": "python",
   "name": "python2"
  },
  "language_info": {
   "codemirror_mode": {
    "name": "ipython",
    "version": 2
   },
   "file_extension": ".py",
   "mimetype": "text/x-python",
   "name": "python",
   "nbconvert_exporter": "python",
   "pygments_lexer": "ipython2",
   "version": "2.7.13"
  }
 },
 "nbformat": 4,
 "nbformat_minor": 0
}
